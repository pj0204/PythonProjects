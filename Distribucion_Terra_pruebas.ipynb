{
 "cells": [
  {
   "cell_type": "code",
   "execution_count": 14,
   "metadata": {},
   "outputs": [
    {
     "data": {
      "text/plain": [
       "\"df2.columns=['CODIGO', 'PRODUCTO', 'DIST', 'NVAS', 'ECO', 'SUB', 'SAM', 'CUM',\\n       'QUI', 'LPA', 'ALA', 'ESM', 'DOM', 'OVA', 'CAL', 'IRA', 'CER',\\n       'MAI', 'VIC', 'MAC', 'PTO', 'BEL', 'REJ']\""
      ]
     },
     "execution_count": 14,
     "metadata": {},
     "output_type": "execute_result"
    }
   ],
   "source": [
    "import pandas as pd\n",
    "from openpyxl import load_workbook\n",
    "from openpyxl import workbook\n",
    "import string\n",
    "import xlsxwriter\n",
    "import numpy\n",
    "\n",
    "\n",
    "df = pd.read_excel('Distrib_Terra.xlsx')\n",
    "df1 = df.iloc[:,[0,1,3,6,21,37,53,69,85,101,117,133,149,165,181,197,213,229,245,261,277,293,309]]\n",
    "\n",
    "#columns_names = df1.columns.values.tolist() #Mas eficiente que el siguiente metodo - list()\n",
    "#lista_columnas = list(columns_names) #Menos eficiente que df.columns.value.tolist()\n",
    "\n",
    "\"\"\"df2.columns=['CODIGO', 'PRODUCTO', 'DIST', 'NVAS', 'ECO', 'SUB', 'SAM', 'CUM',\n",
    "       'QUI', 'LPA', 'ALA', 'ESM', 'DOM', 'OVA', 'CAL', 'IRA', 'CER',\n",
    "       'MAI', 'VIC', 'MAC', 'PTO', 'BEL', 'REJ']\"\"\" #Nombre o titulo de las columnas asignado.\n",
    "#s= [x.lower() for x in columns_names] # Para colocar toda la cabecera en minuscula. Mayusculas = x.upper()\n",
    "#print(df1)\n",
    "\n"
   ]
  },
  {
   "attachments": {},
   "cell_type": "markdown",
   "metadata": {},
   "source": [
    "Se rellenan los valores Nan con cero"
   ]
  },
  {
   "cell_type": "code",
   "execution_count": 15,
   "metadata": {},
   "outputs": [],
   "source": [
    "df2= df1.fillna(value=0)\n",
    "#print(df2)"
   ]
  },
  {
   "attachments": {},
   "cell_type": "markdown",
   "metadata": {},
   "source": [
    "Se extrae el nombre de las columnas. Metodo más eficiente"
   ]
  },
  {
   "cell_type": "code",
   "execution_count": 16,
   "metadata": {},
   "outputs": [],
   "source": [
    "columns_names = df1.columns.values.tolist() #Mas eficiente que el siguiente metodo - list()"
   ]
  },
  {
   "attachments": {},
   "cell_type": "markdown",
   "metadata": {},
   "source": [
    "Se cambia a minuscula el nombre de las cabececeras (lista)"
   ]
  },
  {
   "cell_type": "code",
   "execution_count": 17,
   "metadata": {},
   "outputs": [],
   "source": [
    "s= [x.lower() for x in columns_names] # Para colocar toda la cabecera en minuscula. Mayusculas = x.upper()"
   ]
  },
  {
   "cell_type": "code",
   "execution_count": 18,
   "metadata": {},
   "outputs": [
    {
     "name": "stdout",
     "output_type": "stream",
     "text": [
      "['codigo', 'producto', 'dist', 'pnvas', 'peco', 'psub', 'psam', 'pcum', 'pqui', 'plpa', 'pala', 'pesm', 'pdom', 'pova', 'pcal', 'pira', 'pcer', 'pmai', 'pvic', 'pmac', 'ppto', 'pbel', 'prej']\n"
     ]
    }
   ],
   "source": [
    "print(s)"
   ]
  },
  {
   "cell_type": "code",
   "execution_count": 21,
   "metadata": {},
   "outputs": [
    {
     "ename": "ValueError",
     "evalue": "Excel file format cannot be determined, you must specify an engine manually.",
     "output_type": "error",
     "traceback": [
      "\u001b[1;31m---------------------------------------------------------------------------\u001b[0m",
      "\u001b[1;31mValueError\u001b[0m                                Traceback (most recent call last)",
      "Cell \u001b[1;32mIn[21], line 6\u001b[0m\n\u001b[0;32m      4\u001b[0m \u001b[39m# Append DataFrame to existing excel file\u001b[39;00m\n\u001b[0;32m      5\u001b[0m file \u001b[39m=\u001b[39m \u001b[39mr\u001b[39m\u001b[39m'\u001b[39m\u001b[39mG:/Mi unidad\u001b[39m\u001b[39m\\\u001b[39m\u001b[39mNaturland-Monitor/TERRA-STK-ROT/Distribuciones/DistAcumulado_PRUEBA.xlsx\u001b[39m\u001b[39m'\u001b[39m\n\u001b[1;32m----> 6\u001b[0m read \u001b[39m=\u001b[39m pd\u001b[39m.\u001b[39;49mread_excel(file, sheet_name\u001b[39m=\u001b[39;49m\u001b[39m\"\u001b[39;49m\u001b[39mDatos\u001b[39;49m\u001b[39m\"\u001b[39;49m,index_col\u001b[39m=\u001b[39;49m\u001b[39m2\u001b[39;49m)\n\u001b[0;32m      7\u001b[0m df3\u001b[39m.\u001b[39mto_excel(\u001b[39m\"\u001b[39m\u001b[39mnew_excel.xlsx\u001b[39m\u001b[39m\"\u001b[39m)\n\u001b[0;32m      8\u001b[0m \u001b[39m#writer.book = load_workbook(file)\u001b[39;00m\n\u001b[0;32m      9\u001b[0m \u001b[39m#writer.sheets = dict((ws.title, ws) for ws in book.worksheets)\u001b[39;00m\n\u001b[0;32m     10\u001b[0m \u001b[39m#reader = pd.read_excel(file)\u001b[39;00m\n\u001b[0;32m     11\u001b[0m \u001b[39m#df2.to_excel(writer, sheet_name='Hoja2', startrow=writer.sheets['Hoja2'].max_row)\u001b[39;00m\n\u001b[0;32m     12\u001b[0m \u001b[39m#writer.save()   \u001b[39;00m\n\u001b[0;32m     13\u001b[0m \u001b[39m#print(read) \u001b[39;00m\n",
      "File \u001b[1;32mc:\\Users\\usuario\\AppData\\Local\\Programs\\Python\\Python311\\Lib\\site-packages\\pandas\\util\\_decorators.py:211\u001b[0m, in \u001b[0;36mdeprecate_kwarg.<locals>._deprecate_kwarg.<locals>.wrapper\u001b[1;34m(*args, **kwargs)\u001b[0m\n\u001b[0;32m    209\u001b[0m     \u001b[39melse\u001b[39;00m:\n\u001b[0;32m    210\u001b[0m         kwargs[new_arg_name] \u001b[39m=\u001b[39m new_arg_value\n\u001b[1;32m--> 211\u001b[0m \u001b[39mreturn\u001b[39;00m func(\u001b[39m*\u001b[39;49margs, \u001b[39m*\u001b[39;49m\u001b[39m*\u001b[39;49mkwargs)\n",
      "File \u001b[1;32mc:\\Users\\usuario\\AppData\\Local\\Programs\\Python\\Python311\\Lib\\site-packages\\pandas\\util\\_decorators.py:331\u001b[0m, in \u001b[0;36mdeprecate_nonkeyword_arguments.<locals>.decorate.<locals>.wrapper\u001b[1;34m(*args, **kwargs)\u001b[0m\n\u001b[0;32m    325\u001b[0m \u001b[39mif\u001b[39;00m \u001b[39mlen\u001b[39m(args) \u001b[39m>\u001b[39m num_allow_args:\n\u001b[0;32m    326\u001b[0m     warnings\u001b[39m.\u001b[39mwarn(\n\u001b[0;32m    327\u001b[0m         msg\u001b[39m.\u001b[39mformat(arguments\u001b[39m=\u001b[39m_format_argument_list(allow_args)),\n\u001b[0;32m    328\u001b[0m         \u001b[39mFutureWarning\u001b[39;00m,\n\u001b[0;32m    329\u001b[0m         stacklevel\u001b[39m=\u001b[39mfind_stack_level(),\n\u001b[0;32m    330\u001b[0m     )\n\u001b[1;32m--> 331\u001b[0m \u001b[39mreturn\u001b[39;00m func(\u001b[39m*\u001b[39;49margs, \u001b[39m*\u001b[39;49m\u001b[39m*\u001b[39;49mkwargs)\n",
      "File \u001b[1;32mc:\\Users\\usuario\\AppData\\Local\\Programs\\Python\\Python311\\Lib\\site-packages\\pandas\\io\\excel\\_base.py:482\u001b[0m, in \u001b[0;36mread_excel\u001b[1;34m(io, sheet_name, header, names, index_col, usecols, squeeze, dtype, engine, converters, true_values, false_values, skiprows, nrows, na_values, keep_default_na, na_filter, verbose, parse_dates, date_parser, thousands, decimal, comment, skipfooter, convert_float, mangle_dupe_cols, storage_options)\u001b[0m\n\u001b[0;32m    480\u001b[0m \u001b[39mif\u001b[39;00m \u001b[39mnot\u001b[39;00m \u001b[39misinstance\u001b[39m(io, ExcelFile):\n\u001b[0;32m    481\u001b[0m     should_close \u001b[39m=\u001b[39m \u001b[39mTrue\u001b[39;00m\n\u001b[1;32m--> 482\u001b[0m     io \u001b[39m=\u001b[39m ExcelFile(io, storage_options\u001b[39m=\u001b[39;49mstorage_options, engine\u001b[39m=\u001b[39;49mengine)\n\u001b[0;32m    483\u001b[0m \u001b[39melif\u001b[39;00m engine \u001b[39mand\u001b[39;00m engine \u001b[39m!=\u001b[39m io\u001b[39m.\u001b[39mengine:\n\u001b[0;32m    484\u001b[0m     \u001b[39mraise\u001b[39;00m \u001b[39mValueError\u001b[39;00m(\n\u001b[0;32m    485\u001b[0m         \u001b[39m\"\u001b[39m\u001b[39mEngine should not be specified when passing \u001b[39m\u001b[39m\"\u001b[39m\n\u001b[0;32m    486\u001b[0m         \u001b[39m\"\u001b[39m\u001b[39man ExcelFile - ExcelFile already has the engine set\u001b[39m\u001b[39m\"\u001b[39m\n\u001b[0;32m    487\u001b[0m     )\n",
      "File \u001b[1;32mc:\\Users\\usuario\\AppData\\Local\\Programs\\Python\\Python311\\Lib\\site-packages\\pandas\\io\\excel\\_base.py:1656\u001b[0m, in \u001b[0;36mExcelFile.__init__\u001b[1;34m(self, path_or_buffer, engine, storage_options)\u001b[0m\n\u001b[0;32m   1652\u001b[0m     ext \u001b[39m=\u001b[39m inspect_excel_format(\n\u001b[0;32m   1653\u001b[0m         content_or_path\u001b[39m=\u001b[39mpath_or_buffer, storage_options\u001b[39m=\u001b[39mstorage_options\n\u001b[0;32m   1654\u001b[0m     )\n\u001b[0;32m   1655\u001b[0m     \u001b[39mif\u001b[39;00m ext \u001b[39mis\u001b[39;00m \u001b[39mNone\u001b[39;00m:\n\u001b[1;32m-> 1656\u001b[0m         \u001b[39mraise\u001b[39;00m \u001b[39mValueError\u001b[39;00m(\n\u001b[0;32m   1657\u001b[0m             \u001b[39m\"\u001b[39m\u001b[39mExcel file format cannot be determined, you must specify \u001b[39m\u001b[39m\"\u001b[39m\n\u001b[0;32m   1658\u001b[0m             \u001b[39m\"\u001b[39m\u001b[39man engine manually.\u001b[39m\u001b[39m\"\u001b[39m\n\u001b[0;32m   1659\u001b[0m         )\n\u001b[0;32m   1661\u001b[0m engine \u001b[39m=\u001b[39m config\u001b[39m.\u001b[39mget_option(\u001b[39mf\u001b[39m\u001b[39m\"\u001b[39m\u001b[39mio.excel.\u001b[39m\u001b[39m{\u001b[39;00mext\u001b[39m}\u001b[39;00m\u001b[39m.reader\u001b[39m\u001b[39m\"\u001b[39m, silent\u001b[39m=\u001b[39m\u001b[39mTrue\u001b[39;00m)\n\u001b[0;32m   1662\u001b[0m \u001b[39mif\u001b[39;00m engine \u001b[39m==\u001b[39m \u001b[39m\"\u001b[39m\u001b[39mauto\u001b[39m\u001b[39m\"\u001b[39m:\n",
      "\u001b[1;31mValueError\u001b[0m: Excel file format cannot be determined, you must specify an engine manually."
     ]
    }
   ],
   "source": [
    "writer = pd.ExcelWriter(\"G:/Mi unidad/Naturland-Monitor/PythonProjects/Distribuciones/Distribuciones_TERRA.xlsx\",engine=\"xlsxwriter\")\n",
    "df2.to_excel(writer,sheet_name=\"Hoja1\",index=False)\n",
    "writer.close()\n",
    "# Append DataFrame to existing excel file\n",
    "file = r'G:/Mi unidad\\Naturland-Monitor/TERRA-STK-ROT/Distribuciones/DistAcumulado_PRUEBA.xlsx'\n",
    "read = pd.read_excel(file, sheet_name=\"Datos\")\n",
    "df3.to_excel(\"new_excel.xlsx\")\n",
    "#writer.book = load_workbook(file)\n",
    "#writer.sheets = dict((ws.title, ws) for ws in book.worksheets)\n",
    "#reader = pd.read_excel(file)\n",
    "#df2.to_excel(writer, sheet_name='Hoja2', startrow=writer.sheets['Hoja2'].max_row)\n",
    "#writer.save()   \n",
    "#print(read) "
   ]
  }
 ],
 "metadata": {
  "kernelspec": {
   "display_name": "Python 3",
   "language": "python",
   "name": "python3"
  },
  "language_info": {
   "codemirror_mode": {
    "name": "ipython",
    "version": 3
   },
   "file_extension": ".py",
   "mimetype": "text/x-python",
   "name": "python",
   "nbconvert_exporter": "python",
   "pygments_lexer": "ipython3",
   "version": "3.11.2"
  },
  "orig_nbformat": 4,
  "vscode": {
   "interpreter": {
    "hash": "b58d8afad29769750a1e2256a8ad1358e335723359754ebc5cc416c5c1bf1079"
   }
  }
 },
 "nbformat": 4,
 "nbformat_minor": 2
}
