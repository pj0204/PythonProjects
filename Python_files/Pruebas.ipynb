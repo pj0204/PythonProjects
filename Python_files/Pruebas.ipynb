{
 "cells": [
  {
   "cell_type": "code",
   "execution_count": 29,
   "metadata": {},
   "outputs": [
    {
     "name": "stdout",
     "output_type": "stream",
     "text": [
      "1 25 199\n"
     ]
    }
   ],
   "source": [
    "from openpyxl import Workbook\n",
    "from openpyxl import load_workbook\n",
    "import datetime\n",
    "from datetime import date\n",
    "\n",
    "#date = datetime.date(2023,2,20)\n",
    "#date2 = time.strftime(\"%x\")\n",
    "# 1. Open Excel File\n",
    "wb = Workbook()\n",
    "wb = load_workbook(\"DistAcumulado.xlsx\")\n",
    "ws = wb.active # the currently active sheet\n",
    "ws_rangos = wb['Datos']\n",
    "ws.cell(row=ws.max_row, column= ws.max_column).value = date.today()\n",
    "#ws.max_row\n",
    "# 2. Enter Input (Country)\n",
    "\n",
    "\n",
    "#for row in ws.iter_rows(min_row=1, max_col=3, max_row= 3, values_only=True):\n",
    "    \n",
    "wb.save(\"DistAcumulado.xlsx\")\n",
    "print(ws.min_row,ws.max_column,ws.max_row)"
   ]
  }
 ],
 "metadata": {
  "kernelspec": {
   "display_name": "Python 3",
   "language": "python",
   "name": "python3"
  },
  "language_info": {
   "codemirror_mode": {
    "name": "ipython",
    "version": 3
   },
   "file_extension": ".py",
   "mimetype": "text/x-python",
   "name": "python",
   "nbconvert_exporter": "python",
   "pygments_lexer": "ipython3",
   "version": "3.11.2"
  },
  "orig_nbformat": 4,
  "vscode": {
   "interpreter": {
    "hash": "b58d8afad29769750a1e2256a8ad1358e335723359754ebc5cc416c5c1bf1079"
   }
  }
 },
 "nbformat": 4,
 "nbformat_minor": 2
}
